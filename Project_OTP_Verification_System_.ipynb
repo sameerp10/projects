{
  "nbformat": 4,
  "nbformat_minor": 0,
  "metadata": {
    "colab": {
      "provenance": []
    },
    "kernelspec": {
      "name": "python3",
      "display_name": "Python 3"
    },
    "language_info": {
      "name": "python"
    }
  },
  "cells": [
    {
      "cell_type": "code",
      "execution_count": 71,
      "metadata": {
        "id": "5GWBQuawl_cw"
      },
      "outputs": [],
      "source": [
        "import random\n",
        "import re\n",
        "import smtplib"
      ]
    },
    {
      "cell_type": "code",
      "source": [
        "# Generate OTP(6 digit)\n",
        "def generate_otp():\n",
        "  otp=\"\"\n",
        "  for i in range (6):\n",
        "    otp=otp+str(random.randint(0,9))\n",
        "  return otp\n",
        "\n",
        "# Getting User Email_id\n",
        "def get_user_email():\n",
        "  while True:\n",
        "    email=input(\"enter the email id(e.g., example@gmail.com): \")\n",
        "    pattern=r\"^[a-zA-Z0-9_.+-]+@[a-zA-Z0-9-]+\\.[a-zA-Z0-9-.]+$\"\n",
        "    if re.match(pattern,email):\n",
        "      break\n",
        "    else:\n",
        "      print(\"Please Enter The Valid Email id\")\n",
        "  return email\n",
        "\n",
        "# OTP send to email\n",
        "def OTP_send_to_email(email,otp):\n",
        "  server=smtplib.SMTP('smtp.gmail.com',587)   # connect Gmail SMTP server\n",
        "  server.starttls()\n",
        "  server.login(email,'sgal ekmp misi jhtz')\n",
        "  msg=f'Hello, your OTP is {otp}'\n",
        "  server.sendmail(email,email,msg)\n",
        "  print (\"OTP has been sent to your email\")\n",
        "\n",
        "def main():\n",
        "  email=get_user_email()  # ask user to enter email\n",
        "  otp=generate_otp()      # genrating OTP\n",
        "  OTP_send_to_email(email,otp)\n",
        "  attempts=3\n",
        "  while attempts>0:\n",
        "    enter_otp=input(\"Please enter the OTP sent to your Email: \")\n",
        "    if otp==enter_otp:\n",
        "      print('OTP is verified successfully')\n",
        "      return\n",
        "    else:\n",
        "      attempts=attempts-1\n",
        "      print(f'Incorrect OTP. Attempts left: {attempts}')\n",
        "  print(\"You have used all attempts. Please try again later.\")\n",
        "\n",
        "if __name__ == \"__main__\":\n",
        "    main()"
      ],
      "metadata": {
        "colab": {
          "base_uri": "https://localhost:8080/"
        },
        "id": "kkrpYGRd8Hyq",
        "outputId": "6fbeba1f-cdec-425f-b539-f4220c483f63"
      },
      "execution_count": 72,
      "outputs": [
        {
          "output_type": "stream",
          "name": "stdout",
          "text": [
            "enter the email id(e.g., example@gmail.com): afleck0600@gmail.com\n",
            "OTP has been sent to your email\n",
            "Please enter the OTP sent to your Email: 801093\n",
            "OTP is verified successfully\n"
          ]
        }
      ]
    }
  ]
}